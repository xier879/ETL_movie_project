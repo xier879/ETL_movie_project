{
 "cells": [
  {
   "cell_type": "code",
   "execution_count": 3,
   "metadata": {},
   "outputs": [],
   "source": [
    "# Set initial dependencies\n",
    "import pandas as pd\n",
    "from sqlalchemy import create_engine"
   ]
  },
  {
   "cell_type": "code",
   "execution_count": 10,
   "metadata": {
    "scrolled": true
   },
   "outputs": [
    {
     "data": {
      "text/html": [
       "<div>\n",
       "<style scoped>\n",
       "    .dataframe tbody tr th:only-of-type {\n",
       "        vertical-align: middle;\n",
       "    }\n",
       "\n",
       "    .dataframe tbody tr th {\n",
       "        vertical-align: top;\n",
       "    }\n",
       "\n",
       "    .dataframe thead th {\n",
       "        text-align: right;\n",
       "    }\n",
       "</style>\n",
       "<table border=\"1\" class=\"dataframe\">\n",
       "  <thead>\n",
       "    <tr style=\"text-align: right;\">\n",
       "      <th></th>\n",
       "      <th>budget</th>\n",
       "      <th>company</th>\n",
       "      <th>country</th>\n",
       "      <th>director</th>\n",
       "      <th>genre</th>\n",
       "      <th>gross</th>\n",
       "      <th>name</th>\n",
       "      <th>rating</th>\n",
       "      <th>released</th>\n",
       "      <th>runtime</th>\n",
       "      <th>score</th>\n",
       "      <th>star</th>\n",
       "      <th>votes</th>\n",
       "      <th>writer</th>\n",
       "      <th>year</th>\n",
       "    </tr>\n",
       "  </thead>\n",
       "  <tbody>\n",
       "    <tr>\n",
       "      <td>0</td>\n",
       "      <td>8000000.0</td>\n",
       "      <td>Columbia Pictures Corporation</td>\n",
       "      <td>USA</td>\n",
       "      <td>Rob Reiner</td>\n",
       "      <td>Adventure</td>\n",
       "      <td>52287414.0</td>\n",
       "      <td>Stand by Me</td>\n",
       "      <td>R</td>\n",
       "      <td>1986-08-22</td>\n",
       "      <td>89</td>\n",
       "      <td>8.1</td>\n",
       "      <td>Wil Wheaton</td>\n",
       "      <td>299174</td>\n",
       "      <td>Stephen King</td>\n",
       "      <td>1986</td>\n",
       "    </tr>\n",
       "    <tr>\n",
       "      <td>1</td>\n",
       "      <td>6000000.0</td>\n",
       "      <td>Paramount Pictures</td>\n",
       "      <td>USA</td>\n",
       "      <td>John Hughes</td>\n",
       "      <td>Comedy</td>\n",
       "      <td>70136369.0</td>\n",
       "      <td>Ferris Bueller's Day Off</td>\n",
       "      <td>PG-13</td>\n",
       "      <td>1986-06-11</td>\n",
       "      <td>103</td>\n",
       "      <td>7.8</td>\n",
       "      <td>Matthew Broderick</td>\n",
       "      <td>264740</td>\n",
       "      <td>John Hughes</td>\n",
       "      <td>1986</td>\n",
       "    </tr>\n",
       "    <tr>\n",
       "      <td>2</td>\n",
       "      <td>15000000.0</td>\n",
       "      <td>Paramount Pictures</td>\n",
       "      <td>USA</td>\n",
       "      <td>Tony Scott</td>\n",
       "      <td>Action</td>\n",
       "      <td>179800601.0</td>\n",
       "      <td>Top Gun</td>\n",
       "      <td>PG</td>\n",
       "      <td>1986-05-16</td>\n",
       "      <td>110</td>\n",
       "      <td>6.9</td>\n",
       "      <td>Tom Cruise</td>\n",
       "      <td>236909</td>\n",
       "      <td>Jim Cash</td>\n",
       "      <td>1986</td>\n",
       "    </tr>\n",
       "    <tr>\n",
       "      <td>3</td>\n",
       "      <td>18500000.0</td>\n",
       "      <td>Twentieth Century Fox Film Corporation</td>\n",
       "      <td>USA</td>\n",
       "      <td>James Cameron</td>\n",
       "      <td>Action</td>\n",
       "      <td>85160248.0</td>\n",
       "      <td>Aliens</td>\n",
       "      <td>R</td>\n",
       "      <td>1986-07-18</td>\n",
       "      <td>137</td>\n",
       "      <td>8.4</td>\n",
       "      <td>Sigourney Weaver</td>\n",
       "      <td>540152</td>\n",
       "      <td>James Cameron</td>\n",
       "      <td>1986</td>\n",
       "    </tr>\n",
       "    <tr>\n",
       "      <td>4</td>\n",
       "      <td>9000000.0</td>\n",
       "      <td>Walt Disney Pictures</td>\n",
       "      <td>USA</td>\n",
       "      <td>Randal Kleiser</td>\n",
       "      <td>Adventure</td>\n",
       "      <td>18564613.0</td>\n",
       "      <td>Flight of the Navigator</td>\n",
       "      <td>PG</td>\n",
       "      <td>1986-08-01</td>\n",
       "      <td>90</td>\n",
       "      <td>6.9</td>\n",
       "      <td>Joey Cramer</td>\n",
       "      <td>36636</td>\n",
       "      <td>Mark H. Baker</td>\n",
       "      <td>1986</td>\n",
       "    </tr>\n",
       "  </tbody>\n",
       "</table>\n",
       "</div>"
      ],
      "text/plain": [
       "       budget                                 company country        director  \\\n",
       "0   8000000.0           Columbia Pictures Corporation     USA      Rob Reiner   \n",
       "1   6000000.0                      Paramount Pictures     USA     John Hughes   \n",
       "2  15000000.0                      Paramount Pictures     USA      Tony Scott   \n",
       "3  18500000.0  Twentieth Century Fox Film Corporation     USA   James Cameron   \n",
       "4   9000000.0                    Walt Disney Pictures     USA  Randal Kleiser   \n",
       "\n",
       "       genre        gross                      name rating    released  \\\n",
       "0  Adventure   52287414.0               Stand by Me      R  1986-08-22   \n",
       "1     Comedy   70136369.0  Ferris Bueller's Day Off  PG-13  1986-06-11   \n",
       "2     Action  179800601.0                   Top Gun     PG  1986-05-16   \n",
       "3     Action   85160248.0                    Aliens      R  1986-07-18   \n",
       "4  Adventure   18564613.0   Flight of the Navigator     PG  1986-08-01   \n",
       "\n",
       "   runtime  score               star   votes         writer  year  \n",
       "0       89    8.1        Wil Wheaton  299174   Stephen King  1986  \n",
       "1      103    7.8  Matthew Broderick  264740    John Hughes  1986  \n",
       "2      110    6.9         Tom Cruise  236909       Jim Cash  1986  \n",
       "3      137    8.4   Sigourney Weaver  540152  James Cameron  1986  \n",
       "4       90    6.9        Joey Cramer   36636  Mark H. Baker  1986  "
      ]
     },
     "execution_count": 10,
     "metadata": {},
     "output_type": "execute_result"
    }
   ],
   "source": [
    "# Create IMDB Movie DataFrame\n",
    "IMDB_file = \"./IMDB_movies.csv\"\n",
    "IMDB_df = pd.read_csv(IMDB_file, encoding='latin-1')\n",
    "IMDB_df.head()"
   ]
  },
  {
   "cell_type": "code",
<<<<<<< HEAD:helen_xier_work/Resources/bollywood_notebook.ipynb
   "execution_count": 3,
=======
   "execution_count": 11,
>>>>>>> master:helen_xier_work/Resources/IMDB_notebook.ipynb
   "metadata": {},
   "outputs": [
    {
     "data": {
      "text/plain": [
       "array([1986, 1987, 1989, 1988, 1990, 1991, 1992, 1993, 1994, 1995, 1996,\n",
       "       1997, 1998, 1999, 2000, 2001, 2002, 2003, 2004, 2005, 2006, 2007,\n",
       "       2008, 2009, 2010, 2011, 2012, 2013, 2014, 2015, 2016])"
      ]
     },
     "execution_count": 11,
     "metadata": {},
     "output_type": "execute_result"
    }
   ],
   "source": [
    "# Call unique years\n",
    "IMDB_df['year'].unique()"
   ]
  },
  {
   "cell_type": "code",
   "execution_count": 14,
   "metadata": {
    "scrolled": false
   },
   "outputs": [
    {
     "data": {
      "text/html": [
       "<div>\n",
       "<style scoped>\n",
       "    .dataframe tbody tr th:only-of-type {\n",
       "        vertical-align: middle;\n",
       "    }\n",
       "\n",
       "    .dataframe tbody tr th {\n",
       "        vertical-align: top;\n",
       "    }\n",
       "\n",
       "    .dataframe thead th {\n",
       "        text-align: right;\n",
       "    }\n",
       "</style>\n",
       "<table border=\"1\" class=\"dataframe\">\n",
       "  <thead>\n",
       "    <tr style=\"text-align: right;\">\n",
       "      <th></th>\n",
       "      <th>budget</th>\n",
       "      <th>company</th>\n",
       "      <th>country</th>\n",
       "      <th>director</th>\n",
       "      <th>genre</th>\n",
       "      <th>gross</th>\n",
       "      <th>name</th>\n",
       "      <th>rating</th>\n",
       "      <th>runtime</th>\n",
       "      <th>score</th>\n",
       "      <th>star</th>\n",
       "      <th>votes</th>\n",
       "      <th>writer</th>\n",
       "      <th>year</th>\n",
       "    </tr>\n",
       "  </thead>\n",
       "  <tbody>\n",
       "    <tr>\n",
       "      <td>0</td>\n",
       "      <td>8000000.0</td>\n",
       "      <td>Columbia Pictures Corporation</td>\n",
       "      <td>USA</td>\n",
       "      <td>Rob Reiner</td>\n",
       "      <td>Adventure</td>\n",
       "      <td>52287414.0</td>\n",
       "      <td>Stand by Me</td>\n",
       "      <td>R</td>\n",
       "      <td>89</td>\n",
       "      <td>8.1</td>\n",
       "      <td>Wil Wheaton</td>\n",
       "      <td>299174</td>\n",
       "      <td>Stephen King</td>\n",
       "      <td>1986</td>\n",
       "    </tr>\n",
       "    <tr>\n",
       "      <td>1</td>\n",
       "      <td>6000000.0</td>\n",
       "      <td>Paramount Pictures</td>\n",
       "      <td>USA</td>\n",
       "      <td>John Hughes</td>\n",
       "      <td>Comedy</td>\n",
       "      <td>70136369.0</td>\n",
       "      <td>Ferris Bueller's Day Off</td>\n",
       "      <td>PG-13</td>\n",
       "      <td>103</td>\n",
       "      <td>7.8</td>\n",
       "      <td>Matthew Broderick</td>\n",
       "      <td>264740</td>\n",
       "      <td>John Hughes</td>\n",
       "      <td>1986</td>\n",
       "    </tr>\n",
       "    <tr>\n",
       "      <td>2</td>\n",
       "      <td>15000000.0</td>\n",
       "      <td>Paramount Pictures</td>\n",
       "      <td>USA</td>\n",
       "      <td>Tony Scott</td>\n",
       "      <td>Action</td>\n",
       "      <td>179800601.0</td>\n",
       "      <td>Top Gun</td>\n",
       "      <td>PG</td>\n",
       "      <td>110</td>\n",
       "      <td>6.9</td>\n",
       "      <td>Tom Cruise</td>\n",
       "      <td>236909</td>\n",
       "      <td>Jim Cash</td>\n",
       "      <td>1986</td>\n",
       "    </tr>\n",
       "    <tr>\n",
       "      <td>3</td>\n",
       "      <td>18500000.0</td>\n",
       "      <td>Twentieth Century Fox Film Corporation</td>\n",
       "      <td>USA</td>\n",
       "      <td>James Cameron</td>\n",
       "      <td>Action</td>\n",
       "      <td>85160248.0</td>\n",
       "      <td>Aliens</td>\n",
       "      <td>R</td>\n",
       "      <td>137</td>\n",
       "      <td>8.4</td>\n",
       "      <td>Sigourney Weaver</td>\n",
       "      <td>540152</td>\n",
       "      <td>James Cameron</td>\n",
       "      <td>1986</td>\n",
       "    </tr>\n",
       "    <tr>\n",
       "      <td>4</td>\n",
       "      <td>9000000.0</td>\n",
       "      <td>Walt Disney Pictures</td>\n",
       "      <td>USA</td>\n",
       "      <td>Randal Kleiser</td>\n",
       "      <td>Adventure</td>\n",
       "      <td>18564613.0</td>\n",
       "      <td>Flight of the Navigator</td>\n",
       "      <td>PG</td>\n",
       "      <td>90</td>\n",
       "      <td>6.9</td>\n",
       "      <td>Joey Cramer</td>\n",
       "      <td>36636</td>\n",
       "      <td>Mark H. Baker</td>\n",
       "      <td>1986</td>\n",
       "    </tr>\n",
       "  </tbody>\n",
       "</table>\n",
       "</div>"
      ],
      "text/plain": [
       "       budget                                 company country        director  \\\n",
       "0   8000000.0           Columbia Pictures Corporation     USA      Rob Reiner   \n",
       "1   6000000.0                      Paramount Pictures     USA     John Hughes   \n",
       "2  15000000.0                      Paramount Pictures     USA      Tony Scott   \n",
       "3  18500000.0  Twentieth Century Fox Film Corporation     USA   James Cameron   \n",
       "4   9000000.0                    Walt Disney Pictures     USA  Randal Kleiser   \n",
       "\n",
       "       genre        gross                      name rating  runtime  score  \\\n",
       "0  Adventure   52287414.0               Stand by Me      R       89    8.1   \n",
       "1     Comedy   70136369.0  Ferris Bueller's Day Off  PG-13      103    7.8   \n",
       "2     Action  179800601.0                   Top Gun     PG      110    6.9   \n",
       "3     Action   85160248.0                    Aliens      R      137    8.4   \n",
       "4  Adventure   18564613.0   Flight of the Navigator     PG       90    6.9   \n",
       "\n",
       "                star   votes         writer  year  \n",
       "0        Wil Wheaton  299174   Stephen King  1986  \n",
       "1  Matthew Broderick  264740    John Hughes  1986  \n",
       "2         Tom Cruise  236909       Jim Cash  1986  \n",
       "3   Sigourney Weaver  540152  James Cameron  1986  \n",
       "4        Joey Cramer   36636  Mark H. Baker  1986  "
      ]
     },
<<<<<<< HEAD:helen_xier_work/Resources/bollywood_notebook.ipynb
     "execution_count": 3,
=======
     "execution_count": 14,
>>>>>>> master:helen_xier_work/Resources/IMDB_notebook.ipynb
     "metadata": {},
     "output_type": "execute_result"
    }
   ],
   "source": [
    "# Remove the 'released' column from IMDB\n",
    "clean_imdb = IMDB_df.drop(['released'], axis=1)\n",
    "clean_imdb.head()"
   ]
  },
  {
   "cell_type": "code",
   "execution_count": 21,
   "metadata": {},
   "outputs": [
    {
     "data": {
      "text/plain": [
       "Index(['budget', 'company', 'country', 'director', 'genre', 'gross', 'name',\n",
       "       'rating', 'runtime', 'score', 'star', 'votes', 'writer', 'year'],\n",
       "      dtype='object')"
      ]
     },
     "execution_count": 21,
     "metadata": {},
     "output_type": "execute_result"
    }
   ],
   "source": [
    "# Display new columns\n",
    "clean_imdb.columns"
   ]
  },
  {
   "cell_type": "code",
   "execution_count": 22,
   "metadata": {},
   "outputs": [],
   "source": [
    "# Export the csv\n",
    "export_imdb_csv = clean_imdb.to_csv(\"clean_imdb.csv\", index=False)"
   ]
  },
  {
   "cell_type": "code",
   "execution_count": 28,
   "metadata": {},
   "outputs": [],
   "source": [
    "rds_connection_string = \"postgres:Bayville123!@localhost:5432/movie_db\"\n",
    "engine = create_engine(f'postgresql://{rds_connection_string}')"
   ]
  },
  {
   "cell_type": "code",
<<<<<<< HEAD:helen_xier_work/Resources/bollywood_notebook.ipynb
   "execution_count": 5,
=======
   "execution_count": 29,
>>>>>>> master:helen_xier_work/Resources/IMDB_notebook.ipynb
   "metadata": {},
   "outputs": [
    {
     "data": {
      "text/plain": [
       "['imdb']"
      ]
     },
<<<<<<< HEAD:helen_xier_work/Resources/bollywood_notebook.ipynb
     "execution_count": 5,
=======
     "execution_count": 29,
>>>>>>> master:helen_xier_work/Resources/IMDB_notebook.ipynb
     "metadata": {},
     "output_type": "execute_result"
    }
   ],
   "source": [
    "engine.table_names()"
   ]
  },
  {
   "cell_type": "code",
<<<<<<< HEAD:helen_xier_work/Resources/bollywood_notebook.ipynb
   "execution_count": 6,
=======
   "execution_count": 31,
>>>>>>> master:helen_xier_work/Resources/IMDB_notebook.ipynb
   "metadata": {},
   "outputs": [
    {
     "data": {
      "text/html": [
       "<div>\n",
       "<style scoped>\n",
       "    .dataframe tbody tr th:only-of-type {\n",
       "        vertical-align: middle;\n",
       "    }\n",
       "\n",
       "    .dataframe tbody tr th {\n",
       "        vertical-align: top;\n",
       "    }\n",
       "\n",
       "    .dataframe thead th {\n",
       "        text-align: right;\n",
       "    }\n",
       "</style>\n",
       "<table border=\"1\" class=\"dataframe\">\n",
       "  <thead>\n",
       "    <tr style=\"text-align: right;\">\n",
       "      <th></th>\n",
       "      <th>budget</th>\n",
       "      <th>company</th>\n",
       "      <th>country</th>\n",
       "      <th>director</th>\n",
       "      <th>genre</th>\n",
       "      <th>gross</th>\n",
       "      <th>name</th>\n",
       "      <th>rating</th>\n",
       "      <th>runtime</th>\n",
       "      <th>score</th>\n",
       "      <th>star</th>\n",
       "      <th>votes</th>\n",
       "      <th>writer</th>\n",
       "      <th>year</th>\n",
       "    </tr>\n",
       "  </thead>\n",
       "  <tbody>\n",
       "  </tbody>\n",
       "</table>\n",
       "</div>"
      ],
      "text/plain": [
       "Empty DataFrame\n",
       "Columns: [budget, company, country, director, genre, gross, name, rating, runtime, score, star, votes, writer, year]\n",
       "Index: []"
      ]
     },
<<<<<<< HEAD:helen_xier_work/Resources/bollywood_notebook.ipynb
     "execution_count": 6,
=======
     "execution_count": 31,
>>>>>>> master:helen_xier_work/Resources/IMDB_notebook.ipynb
     "metadata": {},
     "output_type": "execute_result"
    }
   ],
   "source": [
    "pd.read_sql_query('select * from imdb', con=engine).head()"
   ]
  },
  {
   "cell_type": "code",
<<<<<<< HEAD:helen_xier_work/Resources/bollywood_notebook.ipynb
   "execution_count": 7,
   "metadata": {},
   "outputs": [
    {
     "data": {
      "text/plain": [
       "Index(['imdbId', 'title', 'releaseYear', 'hitFlop'], dtype='object')"
      ]
     },
     "execution_count": 7,
     "metadata": {},
     "output_type": "execute_result"
    }
   ],
   "source": [
    "new_Bolly_df.columns"
   ]
  },
  {
   "cell_type": "code",
   "execution_count": 8,
   "metadata": {},
   "outputs": [],
   "source": [
    "export_csv = new_Bolly_df.to_csv('new_Bollywood_movie.csv',index=False)"
   ]
  },
  {
   "cell_type": "code",
   "execution_count": null,
   "metadata": {},
   "outputs": [],
   "source": []
  },
  {
   "cell_type": "code",
   "execution_count": 9,
   "metadata": {},
   "outputs": [],
   "source": [
    "rds_connection_string = \"postgres:Zhaoxier879@localhost:5432/movie_db\"\n",
    "engine = create_engine(f'postgresql://{rds_connection_string}')"
   ]
  },
  {
   "cell_type": "code",
   "execution_count": 10,
   "metadata": {},
   "outputs": [
    {
     "data": {
      "text/plain": [
       "['bollywood_movie']"
      ]
     },
     "execution_count": 10,
     "metadata": {},
     "output_type": "execute_result"
    }
   ],
   "source": [
    "engine.table_names()"
   ]
  },
  {
   "cell_type": "code",
   "execution_count": 11,
=======
   "execution_count": 5,
>>>>>>> master:helen_xier_work/Resources/IMDB_notebook.ipynb
   "metadata": {},
   "outputs": [
    {
     "data": {
      "text/html": [
       "<div>\n",
       "<style scoped>\n",
       "    .dataframe tbody tr th:only-of-type {\n",
       "        vertical-align: middle;\n",
       "    }\n",
       "\n",
       "    .dataframe tbody tr th {\n",
       "        vertical-align: top;\n",
       "    }\n",
       "\n",
       "    .dataframe thead th {\n",
       "        text-align: right;\n",
       "    }\n",
       "</style>\n",
       "<table border=\"1\" class=\"dataframe\">\n",
       "  <thead>\n",
       "    <tr style=\"text-align: right;\">\n",
       "      <th></th>\n",
       "      <th>imdbId</th>\n",
       "      <th>title</th>\n",
       "      <th>releaseYear</th>\n",
       "      <th>releaseDate</th>\n",
       "      <th>genre</th>\n",
       "      <th>writers</th>\n",
       "      <th>actors</th>\n",
       "      <th>directors</th>\n",
       "      <th>sequel</th>\n",
       "      <th>hitFlop</th>\n",
       "    </tr>\n",
       "  </thead>\n",
       "  <tbody>\n",
       "    <tr>\n",
       "      <td>0</td>\n",
       "      <td>tt0118578</td>\n",
       "      <td>Albela</td>\n",
       "      <td>2001</td>\n",
       "      <td>20 Apr 2001</td>\n",
       "      <td>Romance</td>\n",
       "      <td>Honey Irani (screenplay) | Honey Irani (story)...</td>\n",
       "      <td>Govinda | Aishwarya Rai Bachchan | Jackie Shro...</td>\n",
       "      <td>Deepak Sareen</td>\n",
       "      <td>0.0</td>\n",
       "      <td>2</td>\n",
       "    </tr>\n",
       "    <tr>\n",
       "      <td>1</td>\n",
       "      <td>tt0169102</td>\n",
       "      <td>Lagaan: Once Upon a Time in India</td>\n",
       "      <td>2001</td>\n",
       "      <td>08 May 2002</td>\n",
       "      <td>Adventure | Drama | Musical</td>\n",
       "      <td>Ashutosh Gowariker (story) | Ashutosh Gowarike...</td>\n",
       "      <td>Aamir Khan | Gracy Singh | Rachel Shelley | Pa...</td>\n",
       "      <td>Ashutosh Gowariker</td>\n",
       "      <td>0.0</td>\n",
       "      <td>6</td>\n",
       "    </tr>\n",
       "    <tr>\n",
       "      <td>2</td>\n",
       "      <td>tt0187279</td>\n",
       "      <td>Meri Biwi Ka Jawab Nahin</td>\n",
       "      <td>2004</td>\n",
       "      <td>02 Jul 2004</td>\n",
       "      <td>Action | Comedy</td>\n",
       "      <td>NaN</td>\n",
       "      <td>Akshay Kumar | Sridevi | Gulshan Grover | Laxm...</td>\n",
       "      <td>Pankaj Parashar | S.M. Iqbal</td>\n",
       "      <td>0.0</td>\n",
       "      <td>1</td>\n",
       "    </tr>\n",
       "    <tr>\n",
       "      <td>3</td>\n",
       "      <td>tt0222024</td>\n",
       "      <td>Hum Tumhare Hain Sanam</td>\n",
       "      <td>2002</td>\n",
       "      <td>24 May 2002</td>\n",
       "      <td>Drama | Romance</td>\n",
       "      <td>K.S. Adiyaman | Arun Kumar (assistant dialogue...</td>\n",
       "      <td>Shah Rukh Khan | Madhuri Dixit | Salman Khan |...</td>\n",
       "      <td>K.S. Adiyaman</td>\n",
       "      <td>0.0</td>\n",
       "      <td>4</td>\n",
       "    </tr>\n",
       "    <tr>\n",
       "      <td>4</td>\n",
       "      <td>tt0227194</td>\n",
       "      <td>One 2 Ka 4</td>\n",
       "      <td>2001</td>\n",
       "      <td>30 Mar 2001</td>\n",
       "      <td>Action | Comedy | Drama</td>\n",
       "      <td>Sanjay Chhel | Raaj Kumar Dahima (screenplay) ...</td>\n",
       "      <td>Shah Rukh Khan | Juhi Chawla | Jackie Shroff |...</td>\n",
       "      <td>Shashilal K. Nair</td>\n",
       "      <td>0.0</td>\n",
       "      <td>1</td>\n",
       "    </tr>\n",
       "  </tbody>\n",
       "</table>\n",
       "</div>"
      ],
      "text/plain": [
       "      imdbId                              title  releaseYear  releaseDate  \\\n",
       "0  tt0118578                             Albela         2001  20 Apr 2001   \n",
       "1  tt0169102  Lagaan: Once Upon a Time in India         2001  08 May 2002   \n",
       "2  tt0187279           Meri Biwi Ka Jawab Nahin         2004  02 Jul 2004   \n",
       "3  tt0222024             Hum Tumhare Hain Sanam         2002  24 May 2002   \n",
       "4  tt0227194                         One 2 Ka 4         2001  30 Mar 2001   \n",
       "\n",
       "                         genre  \\\n",
       "0                      Romance   \n",
       "1  Adventure | Drama | Musical   \n",
       "2              Action | Comedy   \n",
       "3              Drama | Romance   \n",
       "4      Action | Comedy | Drama   \n",
       "\n",
       "                                             writers  \\\n",
       "0  Honey Irani (screenplay) | Honey Irani (story)...   \n",
       "1  Ashutosh Gowariker (story) | Ashutosh Gowarike...   \n",
       "2                                                NaN   \n",
       "3  K.S. Adiyaman | Arun Kumar (assistant dialogue...   \n",
       "4  Sanjay Chhel | Raaj Kumar Dahima (screenplay) ...   \n",
       "\n",
       "                                              actors  \\\n",
       "0  Govinda | Aishwarya Rai Bachchan | Jackie Shro...   \n",
       "1  Aamir Khan | Gracy Singh | Rachel Shelley | Pa...   \n",
       "2  Akshay Kumar | Sridevi | Gulshan Grover | Laxm...   \n",
       "3  Shah Rukh Khan | Madhuri Dixit | Salman Khan |...   \n",
       "4  Shah Rukh Khan | Juhi Chawla | Jackie Shroff |...   \n",
       "\n",
       "                      directors  sequel  hitFlop  \n",
       "0                 Deepak Sareen     0.0        2  \n",
       "1            Ashutosh Gowariker     0.0        6  \n",
       "2  Pankaj Parashar | S.M. Iqbal     0.0        1  \n",
       "3                 K.S. Adiyaman     0.0        4  \n",
       "4             Shashilal K. Nair     0.0        1  "
      ]
     },
<<<<<<< HEAD:helen_xier_work/Resources/bollywood_notebook.ipynb
     "execution_count": 11,
=======
     "execution_count": 5,
>>>>>>> master:helen_xier_work/Resources/IMDB_notebook.ipynb
     "metadata": {},
     "output_type": "execute_result"
    }
   ],
   "source": [
    "# Create Bollywood Movie DataFrame\n",
    "Bolly_file = \"./BollywoodMovieDetail.csv\"\n",
    "Bolly_df = pd.read_csv(Bolly_file)\n",
    "Bolly_df.head()"
   ]
  },
  {
   "cell_type": "code",
   "execution_count": 8,
   "metadata": {
    "scrolled": true
   },
   "outputs": [
    {
     "name": "stdout",
     "output_type": "stream",
     "text": [
      "budget\n",
      "company\n",
      "country\n",
      "director\n",
      "genre\n",
      "gross\n",
      "name\n",
      "rating\n",
      "released\n",
      "runtime\n",
      "score\n",
      "star\n",
      "votes\n",
      "writer\n",
      "year\n"
     ]
    }
   ],
   "source": [
    "# List the columns from the IMDB DataFrame\n",
    "for col in IMDB_df.columns:\n",
    "    print(col)"
   ]
  },
  {
   "cell_type": "code",
   "execution_count": null,
   "metadata": {},
   "outputs": [],
   "source": []
  },
  {
   "cell_type": "code",
   "execution_count": null,
   "metadata": {},
   "outputs": [],
   "source": []
  },
  {
   "cell_type": "code",
   "execution_count": null,
   "metadata": {},
   "outputs": [],
   "source": [
    "# Transform the Bollywood DataFrame"
   ]
  }
 ],
 "metadata": {
  "kernelspec": {
   "display_name": "Python 3",
   "language": "python",
   "name": "python3"
  },
  "language_info": {
   "codemirror_mode": {
    "name": "ipython",
    "version": 3
   },
   "file_extension": ".py",
   "mimetype": "text/x-python",
   "name": "python",
   "nbconvert_exporter": "python",
   "pygments_lexer": "ipython3",
   "version": "3.7.4"
  }
 },
 "nbformat": 4,
 "nbformat_minor": 2
}
